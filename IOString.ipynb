{
 "cells": [
  {
   "cell_type": "code",
   "execution_count": 9,
   "id": "6d4f929b",
   "metadata": {},
   "outputs": [
    {
     "name": "stdout",
     "output_type": "stream",
     "text": [
      "Isikan Nama Anda ar\n",
      "Selamat datang ar\n",
      "123\n",
      "Andi@Budi@Rudi\n"
     ]
    }
   ],
   "source": [
    "name = input(\"Isikan Nama Anda \")\n",
    "print(\"Selamat datang\",name) #menggabungkan variabel dengan string\n",
    "\n",
    "print(\"1\",end = '')#mencetak print disamping karakter\n",
    "print(\"2\",end = '')\n",
    "print(\"3\")\n",
    "\n",
    "#separator\n",
    "print(\"Andi\",\"Budi\",\"Rudi\",sep=\"@\")\n"
   ]
  },
  {
   "cell_type": "markdown",
   "id": "8dbfb457",
   "metadata": {},
   "source": [
    "<h3>String Format<h1>"
   ]
  },
  {
   "cell_type": "code",
   "execution_count": 13,
   "id": "955d7cd0",
   "metadata": {},
   "outputs": [
    {
     "name": "stdout",
     "output_type": "stream",
     "text": [
      "Isikan bilangan 1 :4\n",
      "Isikan bilangan 2 :6\n",
      "Hasil penjumlahan 4 + 6 = 10\n",
      "Hasil penjumlahan 4 + 6 = 10\n"
     ]
    }
   ],
   "source": [
    "val1 = int(input(\"Isikan bilangan 1 :\"))\n",
    "val2 = int(input(\"Isikan bilangan 2 :\"))\n",
    "\n",
    "#hasil penjumlahan\n",
    "print(\"Hasil penjumlahan\",val1,\"+\",val2,\"=\",val1+val2)\n",
    "#hasil format menggunakan tanda{}\n",
    "print(\"Hasil penjumlahan {} + {} = {}\".format(val1,val2,val1+val2))"
   ]
  },
  {
   "cell_type": "markdown",
   "id": "931e7c23",
   "metadata": {},
   "source": [
    "<h1>String Format Index</h1>"
   ]
  },
  {
   "cell_type": "code",
   "execution_count": 30,
   "id": "44fe4f2f",
   "metadata": {},
   "outputs": [
    {
     "name": "stdout",
     "output_type": "stream",
     "text": [
      "Isikan Nama Depan das dsa dsa\n",
      "Isikan Nama Tengah sad\n",
      "Isikan Nama Belakang d s\n",
      "Nama Anda : das dsa dsa sad d s\n",
      "Nama Anda : sad d s das dsa dsa\n",
      "Nama Anda : das dsa dsa sad d s\n"
     ]
    }
   ],
   "source": [
    "fName = input(\"Isikan Nama Depan \")\n",
    "mName = input(\"Isikan Nama Tengah \")\n",
    "lName = input(\"Isikan Nama Belakang \")\n",
    "\n",
    "print(\"Nama Anda : {} {} {}\".format(fName,mName,lName))\n",
    "#menggunakan index\n",
    "print(\"Nama Anda : {1} {2} {0}\".format(fName,mName,lName))\n",
    "#menggunakan key\n",
    "print(\"Nama Anda : {depan} {tengah} {belakang}\".format(belakang=lName,depan=fName,tengah=mName))\n"
   ]
  },
  {
   "cell_type": "markdown",
   "id": "84aac501",
   "metadata": {},
   "source": [
    "<h3>Slicing</h3><br>\n",
    "\n",
    "Mengambil String/karakter dari string berdasarkan index"
   ]
  },
  {
   "cell_type": "code",
   "execution_count": 20,
   "id": "fe65b9f2",
   "metadata": {},
   "outputs": [
    {
     "name": "stdout",
     "output_type": "stream",
     "text": [
      "Isikan nama kampus anda :nuspunk\n",
      "n\n",
      "nuspu\n",
      "k\n",
      "uspunk\n"
     ]
    }
   ],
   "source": [
    "university = input(\"Isikan nama kampus anda :\")\n",
    "#mencetak karakter pertama\n",
    "print(university [0])\n",
    "#mencetak karakter pertama sampai ke 5\n",
    "print(university [0:5])\n",
    "#mencetak karakter paling akhir\n",
    "print(university[-1])\n",
    "#mencetak karakter ke 2 sampai selesai\n",
    "print(university[1:])"
   ]
  },
  {
   "cell_type": "markdown",
   "id": "3398a240",
   "metadata": {},
   "source": [
    "<h3>Fungsi String</h3>"
   ]
  },
  {
   "cell_type": "code",
   "execution_count": 24,
   "id": "eab4fa6c",
   "metadata": {},
   "outputs": [
    {
     "name": "stdout",
     "output_type": "stream",
     "text": [
      "Isikan nama lengkap :sa sd \n",
      "Nama depan sa\n",
      "Nama tengah sd\n",
      "Nama belakang \n",
      "Nama anda adalah sa sd \n",
      "6\n"
     ]
    }
   ],
   "source": [
    "fullName = input(\"Isikan nama lengkap :\")\n",
    "#split ~untuk memisahkan string  berdasarkan karakter tertentu\n",
    "name = fullName.split(' ')\n",
    "print(\"Nama depan\",name[0])\n",
    "print(\"Nama tengah\",name[1])\n",
    "print(\"Nama belakang\",name[2])\n",
    "\n",
    "#print fstring\n",
    "print(f\"Nama anda adalah {fullName}\")#Sering digunakan\n",
    "\n",
    "#find untuk menceari karakter dalam string\n",
    "#jika ditemukan akan mengembalikan posisi index\n",
    "#jika tidak ditemukan mengembalikan nilai -1\n",
    "\n",
    "platMobil = \"N7866BB\"\n",
    "print(platMobil.find(\"B\"))\n",
    "\n",
    "#Buatlah program untuk mengecek email valid atau tidak (Operator Ternary)\n",
    "#Email harus mempunyai \"@\" dan \".\"\n",
    "#Posisi \"@\" selalu didepan \".\"\n",
    "#alun@gmail.com -> valdi\n",
    "#alun.me@gmail.com -> tidak valdi\n",
    "#dst.\n",
    "\n"
   ]
  },
  {
   "cell_type": "code",
   "execution_count": 38,
   "id": "6f36a31c",
   "metadata": {},
   "outputs": [
    {
     "name": "stdout",
     "output_type": "stream",
     "text": [
      "Isikan email anda :arul@gmail.com\n",
      "Posisi '@' : 4\n",
      "Posisi '.' : 10\n",
      "Email valdi\n"
     ]
    }
   ],
   "source": [
    "email = input(\"Isikan email anda :\")\n",
    "cek1 = email.find(\"@\")\n",
    "cek2 = email.find(\".\")\n",
    "print(\"Posisi '@' :\",cek1)\n",
    "print(\"Posisi '.' :\",cek2)\n",
    "cekValid = \"Email valdi\" if cek1 > -1 and cek1 < cek2 else \"Email tidak valdi\"\n",
    "print(cekValid)\n"
   ]
  },
  {
   "cell_type": "markdown",
   "id": "1ab2dd7a",
   "metadata": {},
   "source": [
    "<h1>Random<h1>"
   ]
  },
  {
   "cell_type": "code",
   "execution_count": 118,
   "id": "eb14c642",
   "metadata": {},
   "outputs": [
    {
     "name": "stdout",
     "output_type": "stream",
     "text": [
      "0.8177049793486189 adalah hasil nilai acak\n",
      "7 adalah hasil dari nilai acak bulat\n",
      "Apr adalah hasil acak bulan\n",
      "['Thu', 4] adalah hasil dari acak hari\n",
      "berapakah 93 + 99 :\n",
      "Isikan Hasilnya :192\n",
      "Anda benar !!!\n"
     ]
    }
   ],
   "source": [
    "# from random import random\n",
    "nilai = random()\n",
    "print(f\"{nilai} adalah hasil nilai acak\")\n",
    "\n",
    "from random import randint\n",
    "nilaiInt = randint(0,100)\n",
    "print(f\"{nilaiInt} adalah hasil dari nilai acak bulat\")\n",
    "\n",
    "from random import choice\n",
    "\n",
    "month = [\"Jan\", \"Feb\", \"Mar\", \"Apr\", \"Mai\", \"Jun\", \"Aug\", \"Sep\", \"Oct\",\"Des\"]\n",
    "day = [[\"Mon\",1],[\"Tue\",2],[\"Wed\",3],[\"Thu\",4],[\"Fri\",5],[\"Sat\",6],[\"Sun\",7]]\n",
    "sday = choice(day)\n",
    "smonth = choice(month)\n",
    "print(f\"{smonth} adalah hasil acak bulan\")\n",
    "print(f\"{sday} adalah hasil dari acak hari\")\n",
    "\n",
    "nilai1 = randint(0,100)\n",
    "nilai2 = randint(0,100)\n",
    "operator = [\"+\",\"-\",\"*\",\"/\"]\n",
    "sOperator = choice (operator)\n",
    "\n",
    "print(f\"berapakah {nilai1} {sOperator} {nilai2} :\")\n",
    "jawab = int(input(\"Isikan Hasilnya :\"))\n",
    "\n",
    "#IF ELSE\n",
    "if sOperator == \"+\":\n",
    "    cekJawab = \"Anda benar !!!\" if jawab == nilai1 + nilai2 else \"Anda salah!!!\"\n",
    "elif sOperator == \"-\":\n",
    "    cekJawab = \"Anda benar !!!\" if jawab == nilai1 - nilai2 else \"Anda salah!!!\"\n",
    "elif sOperator == \"*\":\n",
    "    cekJawab = \"Anda benar !!!\" if jawab == nilai1 * nilai2 else \"Anda salah!!!\"\n",
    "elif sOperator == \"/\":\n",
    "    cekJawab = \"Anda benar !!!\" if jawab == nilai1 // nilai2 else \"Anda salah!!!\"\n",
    "print(cekJawab)"
   ]
  },
  {
   "cell_type": "markdown",
   "id": "40ee7e5a",
   "metadata": {},
   "source": [
    "<h1>Latihan Random<h1>"
   ]
  },
  {
   "cell_type": "code",
   "execution_count": 122,
   "id": "0953234b",
   "metadata": {},
   "outputs": [
    {
     "name": "stdout",
     "output_type": "stream",
     "text": [
      "Apa bahasa inggris nya Merokok\n",
      "Masukan jawaban : smoke\n",
      "daftar les sono\n"
     ]
    }
   ],
   "source": [
    "kata = [\"Makan\",\"Minum\",\"Merokok\",\"Mabuk\"]\n",
    "sKata = choice(kata)\n",
    "print(f\"Apa bahasa inggris nya {sKata}\")\n",
    "jawab = input(\"Masukan jawaban : \")\n",
    "\n",
    "if sKata == \"Makan\":\n",
    "    cekJawab = \"Anda benar!!!\" if jawab == \"eat\" else \"daftar les sono\"\n",
    "elif sKata == \"Minum\":\n",
    "    cekJawab = \"Anda benar !!!\" if jawab == \"drink\" else \"daftar les sono\"\n",
    "elif sKata == \"Merokok\":\n",
    "    cekJawab = \"Anda benar !!!\" if jawab == \"smoking\" else \"daftar les sono\"\n",
    "elif sKata == \"Mabuk\":\n",
    "    cekJawab = \"Anda benar !!!\" if jawab == \"drunk\" else \"daftar les sono\"\n",
    "print(cekJawab)"
   ]
  },
  {
   "cell_type": "markdown",
   "id": "7212437f",
   "metadata": {},
   "source": [
    "<h1>latihan random (lagi)<h1>"
   ]
  },
  {
   "cell_type": "code",
   "execution_count": 130,
   "id": "9eeb0ac1",
   "metadata": {},
   "outputs": [
    {
     "name": "stdout",
     "output_type": "stream",
     "text": [
      "ENG ->IND (1), IND -> ENG (2)1\n",
      "Apa arti dari eat?\n",
      "Isikan jawaban: makan\n",
      "Anda benar!!!\n"
     ]
    }
   ],
   "source": [
    "from random import choice\n",
    "kamus = [[\"makan\",\"eat\"],[\"minum\",\"drink\"],[\"membaca\",\"reading\"],[\"berenang\",\"swimming\"]]\n",
    "sKamus = choice(kamus)\n",
    "pilihan = int(input(\"ENG ->IND (1), IND -> ENG (2)\"))\n",
    "if pilihan ==1:\n",
    "    print(f\"Apa arti dari {sKamus[1]}?\")\n",
    "    jawab = input(\"Isikan jawaban: \")\n",
    "    cekTranslate = \"Anda benar!!!\" if jawab.lower() == sKamus[0] else \"Anda salah!!!\"\n",
    "elif pilihan ==2:\n",
    "    print(f\"Apa arti dari {sKamus[0]}?\")\n",
    "    jawab = input(\"Isikan jawaban: \")\n",
    "    cekTranslate = \"Anda benar!!!\" if jawab.lower() == sKamus[1] else \"Anda salah!!!\"\n",
    "print(cekTranslate)\n",
    "    "
   ]
  }
 ],
 "metadata": {
  "kernelspec": {
   "display_name": "Python 3 (ipykernel)",
   "language": "python",
   "name": "python3"
  },
  "language_info": {
   "codemirror_mode": {
    "name": "ipython",
    "version": 3
   },
   "file_extension": ".py",
   "mimetype": "text/x-python",
   "name": "python",
   "nbconvert_exporter": "python",
   "pygments_lexer": "ipython3",
   "version": "3.9.12"
  }
 },
 "nbformat": 4,
 "nbformat_minor": 5
}
